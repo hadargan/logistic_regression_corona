{
 "cells": [
  {
   "cell_type": "code",
   "execution_count": null,
   "metadata": {},
   "outputs": [],
   "source": [
    "import pandas as pd\n",
    "import numpy as np\n",
    "import matplotlib.pyplot as plt\n",
    "import seaborn as sns\n",
    "import plotly.express as px\n",
    "import plotly.graph_objects as go\n",
    "import sklearn as sk\n"
   ]
  },
  {
   "cell_type": "code",
   "execution_count": null,
   "metadata": {},
   "outputs": [
    {
     "data": {
      "text/plain": [
       "<bound method DataFrame.info of           תאריך  מאושפזים  אחוז נשים מאושפזות  גיל ממוצע מאושפזים  \\\n",
       "0    2020-03-11        79                45.6                47.8   \n",
       "1    2020-03-12       102                49.0                49.9   \n",
       "2    2020-03-13       120                47.5                49.2   \n",
       "3    2020-03-14       158                49.4                47.4   \n",
       "4    2020-03-15       197                51.8                46.5   \n",
       "...         ...       ...                 ...                 ...   \n",
       "1453 2024-03-03       298                49.0                72.1   \n",
       "1454 2024-03-04       299                48.5                71.8   \n",
       "1455 2024-03-05       298                48.3                71.3   \n",
       "1456 2024-03-06       236                47.9                71.0   \n",
       "1457 2024-03-07       231                48.1                71.4   \n",
       "\n",
       "      סטיית תקן גיל מאושפזים מונשמים  אחוז נשים מונשמות  גיל ממוצע מונשמים  \\\n",
       "0                       18.1     <15               40.0               63.8   \n",
       "1                       18.2     <15               40.0               63.8   \n",
       "2                       18.4     <15               40.0               63.8   \n",
       "3                       18.5     <15                NaN               70.3   \n",
       "4                       18.7     <15               20.0               74.0   \n",
       "...                      ...     ...                ...                ...   \n",
       "1453                    18.2      16               56.2               69.5   \n",
       "1454                    18.1     <15               61.5               72.5   \n",
       "1455                    19.1     <15               64.3               69.1   \n",
       "1456                    18.9     <15               54.5               70.6   \n",
       "1457                    18.2     <15               54.5               70.6   \n",
       "\n",
       "      סטיית תקן גיל מונשמים  אחוז מונשמים לא מחוסנים  ...  \\\n",
       "0                      15.3                    100.0  ...   \n",
       "1                      15.3                    100.0  ...   \n",
       "2                      15.3                    100.0  ...   \n",
       "3                       7.4                    100.0  ...   \n",
       "4                       7.6                    100.0  ...   \n",
       "...                     ...                      ...  ...   \n",
       "1453                   13.5                     12.5  ...   \n",
       "1454                   12.5                     15.4  ...   \n",
       "1455                   14.4                     14.3  ...   \n",
       "1456                   15.1                      9.1  ...   \n",
       "1457                   15.1                      9.1  ...   \n",
       "\n",
       "      אחוז נשים חולות בינוני  אחוז חולים בינוני לא מחוסנים  \\\n",
       "0                        NaN                           NaN   \n",
       "1                        NaN                           NaN   \n",
       "2                       40.0                         100.0   \n",
       "3                       40.0                         100.0   \n",
       "4                       50.0                         100.0   \n",
       "...                      ...                           ...   \n",
       "1453                     NaN                           NaN   \n",
       "1454                     NaN                           NaN   \n",
       "1455                     NaN                           NaN   \n",
       "1456                     NaN                           NaN   \n",
       "1457                     NaN                           NaN   \n",
       "\n",
       "      גיל ממוצע חולים בינוני  סטיית תקן גיל חולים בינוני  חולים קשה  \\\n",
       "0                        NaN                         NaN        <15   \n",
       "1                        NaN                         NaN        <15   \n",
       "2                       68.0                        16.7        <15   \n",
       "3                       68.0                        16.7        <15   \n",
       "4                       61.3                        17.5        <15   \n",
       "...                      ...                         ...        ...   \n",
       "1453                     NaN                         NaN         33   \n",
       "1454                    87.0                         9.9         27   \n",
       "1455                     NaN                         NaN         30   \n",
       "1456                     NaN                         NaN         24   \n",
       "1457                    87.0                         9.9         24   \n",
       "\n",
       "     אחוז נשים חולות קשה  אחוז חולים קשה לא מחוסנים  גיל ממוצע חולים קשה  \\\n",
       "0                   50.0                      100.0                 67.3   \n",
       "1                   50.0                      100.0                 67.3   \n",
       "2                   50.0                      100.0                 67.3   \n",
       "3                   20.0                      100.0                 76.8   \n",
       "4                   37.5                      100.0                 79.0   \n",
       "...                  ...                        ...                  ...   \n",
       "1453                51.5                       27.3                 73.6   \n",
       "1454                55.6                       33.3                 73.3   \n",
       "1455                50.0                       30.0                 73.6   \n",
       "1456                41.7                       20.8                 75.2   \n",
       "1457                41.7                       20.8                 75.2   \n",
       "\n",
       "      סטיית תקן גיל חולים קשה  חולים קשה מצטבר  \n",
       "0                        16.2              <15  \n",
       "1                        16.2              <15  \n",
       "2                        16.2              <15  \n",
       "3                        10.3              <15  \n",
       "4                         9.1              <15  \n",
       "...                       ...              ...  \n",
       "1453                     12.9            36312  \n",
       "1454                     12.8            36312  \n",
       "1455                     13.2            36314  \n",
       "1456                     13.5            36316  \n",
       "1457                     13.5            36316  \n",
       "\n",
       "[1458 rows x 26 columns]>"
      ]
     },
     "execution_count": 3,
     "metadata": {},
     "output_type": "execute_result"
    }
   ],
   "source": [
    "df_coronamain= pd.read_excel('corona_hospitalization_ver_00631 (1).xlsx')\n",
    "\n",
    "df_coronamain.info"
   ]
  },
  {
   "cell_type": "code",
   "execution_count": 4,
   "metadata": {},
   "outputs": [
    {
     "data": {
      "text/plain": [
       "<bound method DataFrame.info of            Date  Hospitalized  precentage_hospitilized_weman  \\\n",
       "0    2020-03-11            79                           45.6   \n",
       "1    2020-03-12           102                           49.0   \n",
       "2    2020-03-13           120                           47.5   \n",
       "3    2020-03-14           158                           49.4   \n",
       "4    2020-03-15           197                           51.8   \n",
       "...         ...           ...                            ...   \n",
       "1453 2024-03-03           298                           49.0   \n",
       "1454 2024-03-04           299                           48.5   \n",
       "1455 2024-03-05           298                           48.3   \n",
       "1456 2024-03-06           236                           47.9   \n",
       "1457 2024-03-07           231                           48.1   \n",
       "\n",
       "      average_hospitalized_age  standard deviation_hospitalized_age מונשמים  \\\n",
       "0                         47.8                                 18.1     <15   \n",
       "1                         49.9                                 18.2     <15   \n",
       "2                         49.2                                 18.4     <15   \n",
       "3                         47.4                                 18.5     <15   \n",
       "4                         46.5                                 18.7     <15   \n",
       "...                        ...                                  ...     ...   \n",
       "1453                      72.1                                 18.2      16   \n",
       "1454                      71.8                                 18.1     <15   \n",
       "1455                      71.3                                 19.1     <15   \n",
       "1456                      71.0                                 18.9     <15   \n",
       "1457                      71.4                                 18.2     <15   \n",
       "\n",
       "      אחוז נשים מונשמות  גיל ממוצע מונשמים  סטיית תקן גיל מונשמים  \\\n",
       "0                  40.0               63.8                   15.3   \n",
       "1                  40.0               63.8                   15.3   \n",
       "2                  40.0               63.8                   15.3   \n",
       "3                   NaN               70.3                    7.4   \n",
       "4                  20.0               74.0                    7.6   \n",
       "...                 ...                ...                    ...   \n",
       "1453               56.2               69.5                   13.5   \n",
       "1454               61.5               72.5                   12.5   \n",
       "1455               64.3               69.1                   14.4   \n",
       "1456               54.5               70.6                   15.1   \n",
       "1457               54.5               70.6                   15.1   \n",
       "\n",
       "      אחוז מונשמים לא מחוסנים  ...  אחוז נשים חולות בינוני  \\\n",
       "0                       100.0  ...                     NaN   \n",
       "1                       100.0  ...                     NaN   \n",
       "2                       100.0  ...                    40.0   \n",
       "3                       100.0  ...                    40.0   \n",
       "4                       100.0  ...                    50.0   \n",
       "...                       ...  ...                     ...   \n",
       "1453                     12.5  ...                     NaN   \n",
       "1454                     15.4  ...                     NaN   \n",
       "1455                     14.3  ...                     NaN   \n",
       "1456                      9.1  ...                     NaN   \n",
       "1457                      9.1  ...                     NaN   \n",
       "\n",
       "      אחוז חולים בינוני לא מחוסנים  גיל ממוצע חולים בינוני  \\\n",
       "0                              NaN                     NaN   \n",
       "1                              NaN                     NaN   \n",
       "2                            100.0                    68.0   \n",
       "3                            100.0                    68.0   \n",
       "4                            100.0                    61.3   \n",
       "...                            ...                     ...   \n",
       "1453                           NaN                     NaN   \n",
       "1454                           NaN                    87.0   \n",
       "1455                           NaN                     NaN   \n",
       "1456                           NaN                     NaN   \n",
       "1457                           NaN                    87.0   \n",
       "\n",
       "      סטיית תקן גיל חולים בינוני  חולים קשה אחוז נשים חולות קשה  \\\n",
       "0                            NaN        <15                50.0   \n",
       "1                            NaN        <15                50.0   \n",
       "2                           16.7        <15                50.0   \n",
       "3                           16.7        <15                20.0   \n",
       "4                           17.5        <15                37.5   \n",
       "...                          ...        ...                 ...   \n",
       "1453                         NaN         33                51.5   \n",
       "1454                         9.9         27                55.6   \n",
       "1455                         NaN         30                50.0   \n",
       "1456                         NaN         24                41.7   \n",
       "1457                         9.9         24                41.7   \n",
       "\n",
       "      אחוז חולים קשה לא מחוסנים  גיל ממוצע חולים קשה  סטיית תקן גיל חולים קשה  \\\n",
       "0                         100.0                 67.3                     16.2   \n",
       "1                         100.0                 67.3                     16.2   \n",
       "2                         100.0                 67.3                     16.2   \n",
       "3                         100.0                 76.8                     10.3   \n",
       "4                         100.0                 79.0                      9.1   \n",
       "...                         ...                  ...                      ...   \n",
       "1453                       27.3                 73.6                     12.9   \n",
       "1454                       33.3                 73.3                     12.8   \n",
       "1455                       30.0                 73.6                     13.2   \n",
       "1456                       20.8                 75.2                     13.5   \n",
       "1457                       20.8                 75.2                     13.5   \n",
       "\n",
       "      חולים קשה מצטבר  \n",
       "0                 <15  \n",
       "1                 <15  \n",
       "2                 <15  \n",
       "3                 <15  \n",
       "4                 <15  \n",
       "...               ...  \n",
       "1453            36312  \n",
       "1454            36312  \n",
       "1455            36314  \n",
       "1456            36316  \n",
       "1457            36316  \n",
       "\n",
       "[1458 rows x 26 columns]>"
      ]
     },
     "execution_count": 4,
     "metadata": {},
     "output_type": "execute_result"
    }
   ],
   "source": [
    "df_hospitalized = pd.read_excel('corona_hospitalized_data.xlsx')\n",
    "df_hospitalized.info\n"
   ]
  },
  {
   "cell_type": "code",
   "execution_count": 8,
   "metadata": {},
   "outputs": [
    {
     "name": "stdout",
     "output_type": "stream",
     "text": [
      "Index(['Date', 'Hospitalized', 'precentage_hospitilized_weman',\n",
      "       'average_hospitalized_age', 'standard deviation_hospitalized_age',\n",
      "       'מונשמים', 'אחוז נשים מונשמות', 'גיל ממוצע מונשמים',\n",
      "       'סטיית תקן גיל מונשמים', 'אחוז מונשמים לא מחוסנים', 'חולים קל',\n",
      "       'אחוז נשים חולות קל', 'אחוז חולים קל לא מחוסנים', 'גיל ממוצע חולים קל',\n",
      "       'סטיית תקן גיל חולים קל', 'חולים בינוני', 'אחוז נשים חולות בינוני',\n",
      "       'אחוז חולים בינוני לא מחוסנים', 'גיל ממוצע חולים בינוני',\n",
      "       'סטיית תקן גיל חולים בינוני', 'חולים קשה', 'אחוז נשים חולות קשה',\n",
      "       'אחוז חולים קשה לא מחוסנים', 'גיל ממוצע חולים קשה',\n",
      "       'סטיית תקן גיל חולים קשה', 'חולים קשה מצטבר'],\n",
      "      dtype='object')\n"
     ]
    }
   ],
   "source": [
    "print(df_hospitalized.columns)"
   ]
  },
  {
   "cell_type": "code",
   "execution_count": 18,
   "metadata": {},
   "outputs": [
    {
     "data": {
      "text/html": [
       "<div>\n",
       "<style scoped>\n",
       "    .dataframe tbody tr th:only-of-type {\n",
       "        vertical-align: middle;\n",
       "    }\n",
       "\n",
       "    .dataframe tbody tr th {\n",
       "        vertical-align: top;\n",
       "    }\n",
       "\n",
       "    .dataframe thead th {\n",
       "        text-align: right;\n",
       "    }\n",
       "</style>\n",
       "<table border=\"1\" class=\"dataframe\">\n",
       "  <thead>\n",
       "    <tr style=\"text-align: right;\">\n",
       "      <th></th>\n",
       "      <th>Date</th>\n",
       "      <th>Hospitalized</th>\n",
       "      <th>precentage_hospitilized_weman</th>\n",
       "      <th>average_hospitalized_age</th>\n",
       "      <th>standard deviation_hospitalized_age</th>\n",
       "    </tr>\n",
       "  </thead>\n",
       "  <tbody>\n",
       "    <tr>\n",
       "      <th>0</th>\n",
       "      <td>2020-03-11</td>\n",
       "      <td>79</td>\n",
       "      <td>45.6</td>\n",
       "      <td>47.8</td>\n",
       "      <td>18.1</td>\n",
       "    </tr>\n",
       "    <tr>\n",
       "      <th>1</th>\n",
       "      <td>2020-03-12</td>\n",
       "      <td>102</td>\n",
       "      <td>49.0</td>\n",
       "      <td>49.9</td>\n",
       "      <td>18.2</td>\n",
       "    </tr>\n",
       "    <tr>\n",
       "      <th>2</th>\n",
       "      <td>2020-03-13</td>\n",
       "      <td>120</td>\n",
       "      <td>47.5</td>\n",
       "      <td>49.2</td>\n",
       "      <td>18.4</td>\n",
       "    </tr>\n",
       "    <tr>\n",
       "      <th>3</th>\n",
       "      <td>2020-03-14</td>\n",
       "      <td>158</td>\n",
       "      <td>49.4</td>\n",
       "      <td>47.4</td>\n",
       "      <td>18.5</td>\n",
       "    </tr>\n",
       "    <tr>\n",
       "      <th>4</th>\n",
       "      <td>2020-03-15</td>\n",
       "      <td>197</td>\n",
       "      <td>51.8</td>\n",
       "      <td>46.5</td>\n",
       "      <td>18.7</td>\n",
       "    </tr>\n",
       "  </tbody>\n",
       "</table>\n",
       "</div>"
      ],
      "text/plain": [
       "        Date  Hospitalized  precentage_hospitilized_weman  \\\n",
       "0 2020-03-11            79                           45.6   \n",
       "1 2020-03-12           102                           49.0   \n",
       "2 2020-03-13           120                           47.5   \n",
       "3 2020-03-14           158                           49.4   \n",
       "4 2020-03-15           197                           51.8   \n",
       "\n",
       "   average_hospitalized_age  standard deviation_hospitalized_age  \n",
       "0                      47.8                                 18.1  \n",
       "1                      49.9                                 18.2  \n",
       "2                      49.2                                 18.4  \n",
       "3                      47.4                                 18.5  \n",
       "4                      46.5                                 18.7  "
      ]
     },
     "execution_count": 18,
     "metadata": {},
     "output_type": "execute_result"
    }
   ],
   "source": [
    "corona_my_data = df_hospitalized[['Date', \n",
    "                   'Hospitalized', \n",
    "                   'precentage_hospitilized_weman',\n",
    "                   'average_hospitalized_age',\n",
    "                   'standard deviation_hospitalized_age']]\n",
    "\n",
    "corona_my_data.head()\n"
   ]
  },
  {
   "cell_type": "code",
   "execution_count": 19,
   "metadata": {},
   "outputs": [
    {
     "data": {
      "text/plain": [
       "<bound method DataFrame.info of            Date  Hospitalized  precentage_hospitilized_weman  \\\n",
       "0    2020-03-11            79                           45.6   \n",
       "1    2020-03-12           102                           49.0   \n",
       "2    2020-03-13           120                           47.5   \n",
       "3    2020-03-14           158                           49.4   \n",
       "4    2020-03-15           197                           51.8   \n",
       "...         ...           ...                            ...   \n",
       "1453 2024-03-03           298                           49.0   \n",
       "1454 2024-03-04           299                           48.5   \n",
       "1455 2024-03-05           298                           48.3   \n",
       "1456 2024-03-06           236                           47.9   \n",
       "1457 2024-03-07           231                           48.1   \n",
       "\n",
       "      average_hospitalized_age  standard deviation_hospitalized_age  \n",
       "0                         47.8                                 18.1  \n",
       "1                         49.9                                 18.2  \n",
       "2                         49.2                                 18.4  \n",
       "3                         47.4                                 18.5  \n",
       "4                         46.5                                 18.7  \n",
       "...                        ...                                  ...  \n",
       "1453                      72.1                                 18.2  \n",
       "1454                      71.8                                 18.1  \n",
       "1455                      71.3                                 19.1  \n",
       "1456                      71.0                                 18.9  \n",
       "1457                      71.4                                 18.2  \n",
       "\n",
       "[1458 rows x 5 columns]>"
      ]
     },
     "execution_count": 19,
     "metadata": {},
     "output_type": "execute_result"
    }
   ],
   "source": [
    "corona_my_data.info"
   ]
  },
  {
   "cell_type": "code",
   "execution_count": 21,
   "metadata": {},
   "outputs": [
    {
     "data": {
      "text/plain": [
       "Date                                   datetime64[ns]\n",
       "Hospitalized                                    int64\n",
       "precentage_hospitilized_weman                 float64\n",
       "average_hospitalized_age                      float64\n",
       "standard deviation_hospitalized_age           float64\n",
       "dtype: object"
      ]
     },
     "execution_count": 21,
     "metadata": {},
     "output_type": "execute_result"
    }
   ],
   "source": [
    "corona_my_data.dtypes"
   ]
  },
  {
   "cell_type": "code",
   "execution_count": 22,
   "metadata": {},
   "outputs": [
    {
     "data": {
      "text/plain": [
       "<bound method NDFrame.describe of            Date  Hospitalized  precentage_hospitilized_weman  \\\n",
       "0    2020-03-11            79                           45.6   \n",
       "1    2020-03-12           102                           49.0   \n",
       "2    2020-03-13           120                           47.5   \n",
       "3    2020-03-14           158                           49.4   \n",
       "4    2020-03-15           197                           51.8   \n",
       "...         ...           ...                            ...   \n",
       "1453 2024-03-03           298                           49.0   \n",
       "1454 2024-03-04           299                           48.5   \n",
       "1455 2024-03-05           298                           48.3   \n",
       "1456 2024-03-06           236                           47.9   \n",
       "1457 2024-03-07           231                           48.1   \n",
       "\n",
       "      average_hospitalized_age  standard deviation_hospitalized_age  \n",
       "0                         47.8                                 18.1  \n",
       "1                         49.9                                 18.2  \n",
       "2                         49.2                                 18.4  \n",
       "3                         47.4                                 18.5  \n",
       "4                         46.5                                 18.7  \n",
       "...                        ...                                  ...  \n",
       "1453                      72.1                                 18.2  \n",
       "1454                      71.8                                 18.1  \n",
       "1455                      71.3                                 19.1  \n",
       "1456                      71.0                                 18.9  \n",
       "1457                      71.4                                 18.2  \n",
       "\n",
       "[1458 rows x 5 columns]>"
      ]
     },
     "execution_count": 22,
     "metadata": {},
     "output_type": "execute_result"
    }
   ],
   "source": [
    "corona_my_data.describe"
   ]
  },
  {
   "cell_type": "code",
   "execution_count": 23,
   "metadata": {},
   "outputs": [
    {
     "data": {
      "text/plain": [
       "Date                                   0\n",
       "Hospitalized                           0\n",
       "precentage_hospitilized_weman          0\n",
       "average_hospitalized_age               0\n",
       "standard deviation_hospitalized_age    0\n",
       "dtype: int64"
      ]
     },
     "execution_count": 23,
     "metadata": {},
     "output_type": "execute_result"
    }
   ],
   "source": [
    "corona_my_data.isnull().sum()"
   ]
  },
  {
   "cell_type": "code",
   "execution_count": 26,
   "metadata": {},
   "outputs": [],
   "source": [
    "import matplotlib.pyplot as plt\n",
    "import seaborn as sns\n",
    "import numpy as np"
   ]
  },
  {
   "cell_type": "code",
   "execution_count": 28,
   "metadata": {},
   "outputs": [
    {
     "data": {
      "text/plain": [
       "array([[<Axes: title={'center': 'Date'}>,\n",
       "        <Axes: title={'center': 'Hospitalized'}>],\n",
       "       [<Axes: title={'center': 'precentage_hospitilized_weman'}>,\n",
       "        <Axes: title={'center': 'average_hospitalized_age'}>],\n",
       "       [<Axes: title={'center': 'standard deviation_hospitalized_age'}>,\n",
       "        <Axes: >]], dtype=object)"
      ]
     },
     "execution_count": 28,
     "metadata": {},
     "output_type": "execute_result"
    },
    {
     "data": {
      "image/png": "[encoded data removed]",
      "text/plain": [
       "<Figure size 640x480 with 6 Axes>"
      ]
     },
     "metadata": {},
     "output_type": "display_data"
    }
   ],
   "source": [
    "corona_my_data.hist()"
   ]
  },
  {
   "cell_type": "code",
   "execution_count": 29,
   "metadata": {},
   "outputs": [
    {
     "data": {
      "text/plain": [
       "<Axes: >"
      ]
     },
     "execution_count": 29,
     "metadata": {},
     "output_type": "execute_result"
    },
    {
     "data": {
      "image/png": "[encoded data removed]",
      "text/plain": [
       "<Figure size 640x480 with 1 Axes>"
      ]
     },
     "metadata": {},
     "output_type": "display_data"
    }
   ],
   "source": [
    "corona_my_data.boxplot(column=['Hospitalized', 'precentage_hospitilized_weman','average_hospitalized_age','standard deviation_hospitalized_age'])"
   ]
  },
  {
   "cell_type": "code",
   "execution_count": 30,
   "metadata": {},
   "outputs": [],
   "source": [
    "import plotly.express as px\n",
    "import plotly.graph_objects as go "
   ]
  },
  {
   "cell_type": "code",
   "execution_count": null,
   "metadata": {},
   "outputs": [],
   "source": []
  },
  {
   "cell_type": "markdown",
   "metadata": {},
   "source": []
  },
  {
   "cell_type": "code",
   "execution_count": null,
   "metadata": {},
   "outputs": [],
   "source": []
  },
  {
   "cell_type": "code",
   "execution_count": null,
   "metadata": {},
   "outputs": [],
   "source": []
  },
  {
   "cell_type": "code",
   "execution_count": null,
   "metadata": {},
   "outputs": [],
   "source": []
  },
  {
   "cell_type": "code",
   "execution_count": null,
   "metadata": {},
   "outputs": [],
   "source": []
  },
  {
   "cell_type": "code",
   "execution_count": null,
   "metadata": {},
   "outputs": [],
   "source": []
  },
  {
   "cell_type": "code",
   "execution_count": null,
   "metadata": {},
   "outputs": [],
   "source": []
  },
  {
   "cell_type": "code",
   "execution_count": null,
   "metadata": {},
   "outputs": [],
   "source": []
  },
  {
   "cell_type": "code",
   "execution_count": null,
   "metadata": {},
   "outputs": [],
   "source": []
  },
  {
   "cell_type": "code",
   "execution_count": null,
   "metadata": {},
   "outputs": [],
   "source": []
  },
  {
   "cell_type": "code",
   "execution_count": null,
   "metadata": {},
   "outputs": [],
   "source": []
  },
  {
   "cell_type": "code",
   "execution_count": null,
   "metadata": {},
   "outputs": [],
   "source": []
  },
  {
   "cell_type": "code",
   "execution_count": null,
   "metadata": {},
   "outputs": [],
   "source": []
  },
  {
   "cell_type": "code",
   "execution_count": null,
   "metadata": {},
   "outputs": [],
   "source": []
  },
  {
   "cell_type": "code",
   "execution_count": null,
   "metadata": {},
   "outputs": [],
   "source": []
  },
  {
   "cell_type": "code",
   "execution_count": null,
   "metadata": {},
   "outputs": [],
   "source": []
  },
  {
   "cell_type": "code",
   "execution_count": null,
   "metadata": {},
   "outputs": [],
   "source": []
  },
  {
   "cell_type": "code",
   "execution_count": null,
   "metadata": {},
   "outputs": [],
   "source": []
  },
  {
   "cell_type": "code",
   "execution_count": null,
   "metadata": {},
   "outputs": [],
   "source": []
  },
  {
   "cell_type": "code",
   "execution_count": null,
   "metadata": {},
   "outputs": [],
   "source": []
  },
  {
   "cell_type": "code",
   "execution_count": null,
   "metadata": {},
   "outputs": [],
   "source": []
  },
  {
   "cell_type": "code",
   "execution_count": null,
   "metadata": {},
   "outputs": [],
   "source": []
  },
  {
   "cell_type": "code",
   "execution_count": null,
   "metadata": {},
   "outputs": [],
   "source": []
  }
 ],
 "metadata": {
  "kernelspec": {
   "display_name": "base",
   "language": "python",
   "name": "python3"
  },
  "language_info": {
   "codemirror_mode": {
    "name": "ipython",
    "version": 3
   },
   "file_extension": ".py",
   "mimetype": "text/x-python",
   "name": "python",
   "nbconvert_exporter": "python",
   "pygments_lexer": "ipython3",
   "version": "3.11.7"
  }
 },
 "nbformat": 4,
 "nbformat_minor": 2
}
